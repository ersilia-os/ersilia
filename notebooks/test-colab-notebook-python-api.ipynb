{
 "cells": [
  {
   "attachments": {},
   "cell_type": "markdown",
   "metadata": {
    "colab_type": "text",
    "id": "view-in-github"
   },
   "source": [
    "<a href=\"https://colab.research.google.com/github/ersilia-os/ersilia/blob/master/notebooks/test-colab-notebook-python-api.ipynb\" target=\"_parent\"><img src=\"https://colab.research.google.com/assets/colab-badge.svg\" alt=\"Open In Colab\"/></a>"
   ]
  },
  {
   "cell_type": "code",
   "execution_count": 6,
   "metadata": {
    "id": "tK-9NmDan9_r"
   },
   "outputs": [
    {
     "name": "stdout",
     "output_type": "stream",
     "text": [
      "env: MINICONDA_INSTALLER_SCRIPT=Miniconda3-py37_4.12.0-Linux-x86_64.sh\n",
      "env: MINICONDA_PREFIX=/usr/local\n",
      "env: PYTHONPATH=\"$PYTHONPATH:/usr/local/lib/python3.7/site-packages\"\n",
      "env: PIP_ROOT_USER_ACTION=ignore\n",
      "--2023-01-12 10:32:33--  https://repo.anaconda.com/miniconda/Miniconda3-py37_4.12.0-Linux-x86_64.sh\n",
      "Resolving repo.anaconda.com (repo.anaconda.com)... 104.16.130.3, 104.16.131.3, 2606:4700::6810:8203, ...\n",
      "Connecting to repo.anaconda.com (repo.anaconda.com)|104.16.130.3|:443... connected.\n",
      "HTTP request sent, awaiting response... 200 OK\n",
      "Length: 104996770 (100M) [application/x-sh]\n",
      "Saving to: ‘Miniconda3-py37_4.12.0-Linux-x86_64.sh’\n",
      "\n",
      "Miniconda3-py37_4.1 100%[===================>] 100,13M  9,25MB/s    in 11s     \n",
      "\n",
      "2023-01-12 10:32:45 (9,13 MB/s) - ‘Miniconda3-py37_4.12.0-Linux-x86_64.sh’ saved [104996770/104996770]\n",
      "\n",
      "PREFIX=/usr/local\n",
      "./Miniconda3-py37_4.12.0-Linux-x86_64.sh: 396: cannot create /usr/local/conda.exe: Permission denied\n",
      "chmod: cannot access '/usr/local/conda.exe': No such file or directory\n",
      "Unpacking payload ...\n",
      "./Miniconda3-py37_4.12.0-Linux-x86_64.sh: 412: /usr/local/conda.exe: not found\n",
      "./Miniconda3-py37_4.12.0-Linux-x86_64.sh: 414: /usr/local/conda.exe: not found\n",
      "Collecting git+https://github.com/ersilia-os/ersilia.git\n",
      "  Cloning https://github.com/ersilia-os/ersilia.git to /tmp/pip-req-build-lgi8gw8a\n",
      "  Running command git clone -q https://github.com/ersilia-os/ersilia.git /tmp/pip-req-build-lgi8gw8a\n",
      "Requirement already satisfied: bentoml==0.11.0 in /home/mduranfrigola/miniconda3/envs/ersilia/lib/python3.7/site-packages (from ersilia==0.1.1) (0.11.0)\n",
      "Requirement already satisfied: PyYAML==6.0 in /home/mduranfrigola/miniconda3/envs/ersilia/lib/python3.7/site-packages (from ersilia==0.1.1) (6.0)\n",
      "Requirement already satisfied: validators in /home/mduranfrigola/miniconda3/envs/ersilia/lib/python3.7/site-packages (from ersilia==0.1.1) (0.18.2)\n",
      "Requirement already satisfied: virtualenv==20.17.1 in /home/mduranfrigola/miniconda3/envs/ersilia/lib/python3.7/site-packages (from ersilia==0.1.1) (20.17.1)\n",
      "Requirement already satisfied: dockerfile-parse==2.0.0 in /home/mduranfrigola/miniconda3/envs/ersilia/lib/python3.7/site-packages (from ersilia==0.1.1) (2.0.0)\n",
      "Requirement already satisfied: pygit2==1.10.1 in /home/mduranfrigola/miniconda3/envs/ersilia/lib/python3.7/site-packages (from ersilia==0.1.1) (1.10.1)\n",
      "Requirement already satisfied: emoji==2.2.0 in /home/mduranfrigola/miniconda3/envs/ersilia/lib/python3.7/site-packages (from ersilia==0.1.1) (2.2.0)\n",
      "Requirement already satisfied: loguru==0.6.0 in /home/mduranfrigola/miniconda3/envs/ersilia/lib/python3.7/site-packages (from ersilia==0.1.1) (0.6.0)\n",
      "Requirement already satisfied: pyairtable==1.4.0 in /home/mduranfrigola/miniconda3/envs/ersilia/lib/python3.7/site-packages (from ersilia==0.1.1) (1.4.0)\n",
      "Requirement already satisfied: h5py==3.7.0 in /home/mduranfrigola/miniconda3/envs/ersilia/lib/python3.7/site-packages (from ersilia==0.1.1) (3.7.0)\n",
      "Requirement already satisfied: PyDrive2==1.15.0 in /home/mduranfrigola/miniconda3/envs/ersilia/lib/python3.7/site-packages (from ersilia==0.1.1) (1.15.0)\n",
      "Requirement already satisfied: inputimeout==1.0.4 in /home/mduranfrigola/miniconda3/envs/ersilia/lib/python3.7/site-packages (from ersilia==0.1.1) (1.0.4)\n",
      "Requirement already satisfied: protobuf==3.19.5 in /home/mduranfrigola/miniconda3/envs/ersilia/lib/python3.7/site-packages (from ersilia==0.1.1) (3.19.5)\n",
      "Requirement already satisfied: requests<2.29 in /home/mduranfrigola/miniconda3/envs/ersilia/lib/python3.7/site-packages (from ersilia==0.1.1) (2.28.1)\n",
      "Requirement already satisfied: tqdm==4.64.1 in /home/mduranfrigola/miniconda3/envs/ersilia/lib/python3.7/site-packages (from ersilia==0.1.1) (4.64.1)\n",
      "Requirement already satisfied: chardet in /home/mduranfrigola/miniconda3/envs/ersilia/lib/python3.7/site-packages (from bentoml==0.11.0->ersilia==0.1.1) (3.0.4)\n",
      "Requirement already satisfied: tabulate in /home/mduranfrigola/miniconda3/envs/ersilia/lib/python3.7/site-packages (from bentoml==0.11.0->ersilia==0.1.1) (0.8.9)\n",
      "Requirement already satisfied: cerberus in /home/mduranfrigola/miniconda3/envs/ersilia/lib/python3.7/site-packages (from bentoml==0.11.0->ersilia==0.1.1) (1.3.4)\n",
      "Requirement already satisfied: sqlalchemy<1.4.0,>=1.3.0 in /home/mduranfrigola/miniconda3/envs/ersilia/lib/python3.7/site-packages (from bentoml==0.11.0->ersilia==0.1.1) (1.3.24)\n",
      "Requirement already satisfied: humanfriendly in /home/mduranfrigola/miniconda3/envs/ersilia/lib/python3.7/site-packages (from bentoml==0.11.0->ersilia==0.1.1) (10.0)\n",
      "Requirement already satisfied: urllib3<=1.25.11 in /home/mduranfrigola/miniconda3/envs/ersilia/lib/python3.7/site-packages (from bentoml==0.11.0->ersilia==0.1.1) (1.25.11)\n",
      "Requirement already satisfied: grpcio in /home/mduranfrigola/miniconda3/envs/ersilia/lib/python3.7/site-packages (from bentoml==0.11.0->ersilia==0.1.1) (1.41.1)\n",
      "Requirement already satisfied: python-dateutil<3.0.0,>=2.7.3 in /home/mduranfrigola/miniconda3/envs/ersilia/lib/python3.7/site-packages (from bentoml==0.11.0->ersilia==0.1.1) (2.8.0)\n",
      "Requirement already satisfied: sqlalchemy-utils<0.36.8 in /home/mduranfrigola/miniconda3/envs/ersilia/lib/python3.7/site-packages (from bentoml==0.11.0->ersilia==0.1.1) (0.36.5)\n",
      "Requirement already satisfied: click>=7.0 in /home/mduranfrigola/miniconda3/envs/ersilia/lib/python3.7/site-packages (from bentoml==0.11.0->ersilia==0.1.1) (8.0.3)\n",
      "Requirement already satisfied: boto3 in /home/mduranfrigola/miniconda3/envs/ersilia/lib/python3.7/site-packages (from bentoml==0.11.0->ersilia==0.1.1) (1.19.3)\n",
      "Requirement already satisfied: aiohttp in /home/mduranfrigola/miniconda3/envs/ersilia/lib/python3.7/site-packages (from bentoml==0.11.0->ersilia==0.1.1) (3.7.4.post0)\n",
      "Requirement already satisfied: ruamel.yaml>=0.15.0 in /home/mduranfrigola/miniconda3/envs/ersilia/lib/python3.7/site-packages (from bentoml==0.11.0->ersilia==0.1.1) (0.17.16)\n",
      "Requirement already satisfied: flask in /home/mduranfrigola/miniconda3/envs/ersilia/lib/python3.7/site-packages (from bentoml==0.11.0->ersilia==0.1.1) (2.0.2)\n",
      "Requirement already satisfied: configparser in /home/mduranfrigola/miniconda3/envs/ersilia/lib/python3.7/site-packages (from bentoml==0.11.0->ersilia==0.1.1) (5.0.2)\n",
      "Requirement already satisfied: alembic in /home/mduranfrigola/miniconda3/envs/ersilia/lib/python3.7/site-packages (from bentoml==0.11.0->ersilia==0.1.1) (1.7.4)\n",
      "Requirement already satisfied: packaging in /home/mduranfrigola/.local/lib/python3.7/site-packages (from bentoml==0.11.0->ersilia==0.1.1) (21.3)\n",
      "Requirement already satisfied: python-json-logger in /home/mduranfrigola/miniconda3/envs/ersilia/lib/python3.7/site-packages (from bentoml==0.11.0->ersilia==0.1.1) (2.0.2)\n",
      "Requirement already satisfied: prometheus-client in /home/mduranfrigola/miniconda3/envs/ersilia/lib/python3.7/site-packages (from bentoml==0.11.0->ersilia==0.1.1) (0.11.0)\n",
      "Requirement already satisfied: psutil in /home/mduranfrigola/miniconda3/envs/ersilia/lib/python3.7/site-packages (from bentoml==0.11.0->ersilia==0.1.1) (5.8.0)\n",
      "Requirement already satisfied: certifi in /home/mduranfrigola/miniconda3/envs/ersilia/lib/python3.7/site-packages (from bentoml==0.11.0->ersilia==0.1.1) (2021.10.8)\n",
      "Requirement already satisfied: py-zipkin in /home/mduranfrigola/miniconda3/envs/ersilia/lib/python3.7/site-packages (from bentoml==0.11.0->ersilia==0.1.1) (0.20.2)\n",
      "Requirement already satisfied: docker in /home/mduranfrigola/.local/lib/python3.7/site-packages (from bentoml==0.11.0->ersilia==0.1.1) (4.2.2)\n",
      "Requirement already satisfied: gunicorn in /home/mduranfrigola/miniconda3/envs/ersilia/lib/python3.7/site-packages (from bentoml==0.11.0->ersilia==0.1.1) (20.1.0)\n",
      "Requirement already satisfied: numpy in /home/mduranfrigola/miniconda3/envs/ersilia/lib/python3.7/site-packages (from bentoml==0.11.0->ersilia==0.1.1) (1.21.3)\n",
      "Requirement already satisfied: oauth2client>=4.0.0 in /home/mduranfrigola/miniconda3/envs/ersilia/lib/python3.7/site-packages (from PyDrive2==1.15.0->ersilia==0.1.1) (4.1.3)\n",
      "Requirement already satisfied: pyOpenSSL>=19.1.0 in /home/mduranfrigola/miniconda3/envs/ersilia/lib/python3.7/site-packages (from PyDrive2==1.15.0->ersilia==0.1.1) (21.0.0)\n",
      "Requirement already satisfied: google-api-python-client>=1.12.5 in /home/mduranfrigola/miniconda3/envs/ersilia/lib/python3.7/site-packages (from PyDrive2==1.15.0->ersilia==0.1.1) (2.27.0)\n",
      "Requirement already satisfied: cached-property in /home/mduranfrigola/miniconda3/envs/ersilia/lib/python3.7/site-packages (from pygit2==1.10.1->ersilia==0.1.1) (1.5.2)\n",
      "Requirement already satisfied: cffi>=1.9.1 in /home/mduranfrigola/miniconda3/envs/ersilia/lib/python3.7/site-packages (from pygit2==1.10.1->ersilia==0.1.1) (1.15.0)\n",
      "Requirement already satisfied: platformdirs<3,>=2.4 in /home/mduranfrigola/miniconda3/envs/ersilia/lib/python3.7/site-packages (from virtualenv==20.17.1->ersilia==0.1.1) (2.4.0)\n",
      "Requirement already satisfied: filelock<4,>=3.4.1 in /home/mduranfrigola/miniconda3/envs/ersilia/lib/python3.7/site-packages (from virtualenv==20.17.1->ersilia==0.1.1) (3.9.0)\n",
      "Requirement already satisfied: importlib-metadata>=4.8.3 in /home/mduranfrigola/miniconda3/envs/ersilia/lib/python3.7/site-packages (from virtualenv==20.17.1->ersilia==0.1.1) (6.0.0)\n",
      "Requirement already satisfied: distlib<1,>=0.3.6 in /home/mduranfrigola/miniconda3/envs/ersilia/lib/python3.7/site-packages (from virtualenv==20.17.1->ersilia==0.1.1) (0.3.6)\n",
      "Requirement already satisfied: pycparser in /home/mduranfrigola/miniconda3/envs/ersilia/lib/python3.7/site-packages (from cffi>=1.9.1->pygit2==1.10.1->ersilia==0.1.1) (2.20)\n",
      "Requirement already satisfied: google-api-core<3.0.0dev,>=1.21.0 in /home/mduranfrigola/miniconda3/envs/ersilia/lib/python3.7/site-packages (from google-api-python-client>=1.12.5->PyDrive2==1.15.0->ersilia==0.1.1) (2.1.1)\n",
      "Requirement already satisfied: google-auth-httplib2>=0.1.0 in /home/mduranfrigola/miniconda3/envs/ersilia/lib/python3.7/site-packages (from google-api-python-client>=1.12.5->PyDrive2==1.15.0->ersilia==0.1.1) (0.1.0)\n",
      "Requirement already satisfied: httplib2<1dev,>=0.15.0 in /home/mduranfrigola/miniconda3/envs/ersilia/lib/python3.7/site-packages (from google-api-python-client>=1.12.5->PyDrive2==1.15.0->ersilia==0.1.1) (0.20.1)\n",
      "Requirement already satisfied: google-auth<3.0.0dev,>=1.16.0 in /home/mduranfrigola/miniconda3/envs/ersilia/lib/python3.7/site-packages (from google-api-python-client>=1.12.5->PyDrive2==1.15.0->ersilia==0.1.1) (2.3.1)\n",
      "Requirement already satisfied: uritemplate<5,>=3.0.0 in /home/mduranfrigola/miniconda3/envs/ersilia/lib/python3.7/site-packages (from google-api-python-client>=1.12.5->PyDrive2==1.15.0->ersilia==0.1.1) (4.1.1)\n",
      "Requirement already satisfied: googleapis-common-protos<2.0dev,>=1.6.0 in /home/mduranfrigola/miniconda3/envs/ersilia/lib/python3.7/site-packages (from google-api-core<3.0.0dev,>=1.21.0->google-api-python-client>=1.12.5->PyDrive2==1.15.0->ersilia==0.1.1) (1.53.0)\n",
      "Requirement already satisfied: setuptools>=40.3.0 in /home/mduranfrigola/.local/lib/python3.7/site-packages (from google-api-core<3.0.0dev,>=1.21.0->google-api-python-client>=1.12.5->PyDrive2==1.15.0->ersilia==0.1.1) (63.1.0)\n",
      "Requirement already satisfied: six>=1.9.0 in /home/mduranfrigola/.local/lib/python3.7/site-packages (from google-auth<3.0.0dev,>=1.16.0->google-api-python-client>=1.12.5->PyDrive2==1.15.0->ersilia==0.1.1) (1.16.0)\n",
      "Requirement already satisfied: pyasn1-modules>=0.2.1 in /home/mduranfrigola/miniconda3/envs/ersilia/lib/python3.7/site-packages (from google-auth<3.0.0dev,>=1.16.0->google-api-python-client>=1.12.5->PyDrive2==1.15.0->ersilia==0.1.1) (0.2.8)\n",
      "Requirement already satisfied: rsa<5,>=3.1.4 in /home/mduranfrigola/miniconda3/envs/ersilia/lib/python3.7/site-packages (from google-auth<3.0.0dev,>=1.16.0->google-api-python-client>=1.12.5->PyDrive2==1.15.0->ersilia==0.1.1) (4.7.2)\n",
      "Requirement already satisfied: cachetools<5.0,>=2.0.0 in /home/mduranfrigola/miniconda3/envs/ersilia/lib/python3.7/site-packages (from google-auth<3.0.0dev,>=1.16.0->google-api-python-client>=1.12.5->PyDrive2==1.15.0->ersilia==0.1.1) (4.2.4)\n",
      "Requirement already satisfied: pyparsing<3,>=2.4.2 in /home/mduranfrigola/miniconda3/envs/ersilia/lib/python3.7/site-packages (from httplib2<1dev,>=0.15.0->google-api-python-client>=1.12.5->PyDrive2==1.15.0->ersilia==0.1.1) (2.4.7)\n",
      "Requirement already satisfied: zipp>=0.5 in /home/mduranfrigola/miniconda3/envs/ersilia/lib/python3.7/site-packages (from importlib-metadata>=4.8.3->virtualenv==20.17.1->ersilia==0.1.1) (3.6.0)\n",
      "Requirement already satisfied: typing-extensions>=3.6.4 in /home/mduranfrigola/miniconda3/envs/ersilia/lib/python3.7/site-packages (from importlib-metadata>=4.8.3->virtualenv==20.17.1->ersilia==0.1.1) (3.10.0.2)\n",
      "Requirement already satisfied: pyasn1>=0.1.7 in /home/mduranfrigola/miniconda3/envs/ersilia/lib/python3.7/site-packages (from oauth2client>=4.0.0->PyDrive2==1.15.0->ersilia==0.1.1) (0.4.8)\n",
      "Requirement already satisfied: cryptography>=3.3 in /home/mduranfrigola/miniconda3/envs/ersilia/lib/python3.7/site-packages (from pyOpenSSL>=19.1.0->PyDrive2==1.15.0->ersilia==0.1.1) (35.0.0)\n",
      "Requirement already satisfied: idna<4,>=2.5 in /home/mduranfrigola/miniconda3/envs/ersilia/lib/python3.7/site-packages (from requests<2.29->ersilia==0.1.1) (2.10)\n",
      "Requirement already satisfied: charset-normalizer<3,>=2 in /home/mduranfrigola/miniconda3/envs/ersilia/lib/python3.7/site-packages (from requests<2.29->ersilia==0.1.1) (2.0.7)\n",
      "Requirement already satisfied: ruamel.yaml.clib>=0.1.2 in /home/mduranfrigola/miniconda3/envs/ersilia/lib/python3.7/site-packages (from ruamel.yaml>=0.15.0->bentoml==0.11.0->ersilia==0.1.1) (0.2.6)\n",
      "Requirement already satisfied: attrs>=17.3.0 in /home/mduranfrigola/miniconda3/envs/ersilia/lib/python3.7/site-packages (from aiohttp->bentoml==0.11.0->ersilia==0.1.1) (21.2.0)\n",
      "Requirement already satisfied: yarl<2.0,>=1.0 in /home/mduranfrigola/miniconda3/envs/ersilia/lib/python3.7/site-packages (from aiohttp->bentoml==0.11.0->ersilia==0.1.1) (1.7.0)\n",
      "Requirement already satisfied: async-timeout<4.0,>=3.0 in /home/mduranfrigola/miniconda3/envs/ersilia/lib/python3.7/site-packages (from aiohttp->bentoml==0.11.0->ersilia==0.1.1) (3.0.1)\n",
      "Requirement already satisfied: multidict<7.0,>=4.5 in /home/mduranfrigola/miniconda3/envs/ersilia/lib/python3.7/site-packages (from aiohttp->bentoml==0.11.0->ersilia==0.1.1) (5.2.0)\n",
      "Requirement already satisfied: Mako in /home/mduranfrigola/miniconda3/envs/ersilia/lib/python3.7/site-packages (from alembic->bentoml==0.11.0->ersilia==0.1.1) (1.1.5)\n",
      "Requirement already satisfied: importlib-resources in /home/mduranfrigola/miniconda3/envs/ersilia/lib/python3.7/site-packages (from alembic->bentoml==0.11.0->ersilia==0.1.1) (5.3.0)\n",
      "Requirement already satisfied: botocore<1.23.0,>=1.22.3 in /home/mduranfrigola/miniconda3/envs/ersilia/lib/python3.7/site-packages (from boto3->bentoml==0.11.0->ersilia==0.1.1) (1.22.3)\n",
      "Requirement already satisfied: s3transfer<0.6.0,>=0.5.0 in /home/mduranfrigola/miniconda3/envs/ersilia/lib/python3.7/site-packages (from boto3->bentoml==0.11.0->ersilia==0.1.1) (0.5.0)\n",
      "Requirement already satisfied: jmespath<1.0.0,>=0.7.1 in /home/mduranfrigola/miniconda3/envs/ersilia/lib/python3.7/site-packages (from boto3->bentoml==0.11.0->ersilia==0.1.1) (0.10.0)\n",
      "Requirement already satisfied: websocket-client>=0.32.0 in /home/mduranfrigola/miniconda3/envs/ersilia/lib/python3.7/site-packages (from docker->bentoml==0.11.0->ersilia==0.1.1) (1.2.1)\n",
      "Requirement already satisfied: Werkzeug>=2.0 in /home/mduranfrigola/miniconda3/envs/ersilia/lib/python3.7/site-packages (from flask->bentoml==0.11.0->ersilia==0.1.1) (2.0.2)\n",
      "Requirement already satisfied: itsdangerous>=2.0 in /home/mduranfrigola/miniconda3/envs/ersilia/lib/python3.7/site-packages (from flask->bentoml==0.11.0->ersilia==0.1.1) (2.0.1)\n",
      "Requirement already satisfied: Jinja2>=3.0 in /home/mduranfrigola/miniconda3/envs/ersilia/lib/python3.7/site-packages (from flask->bentoml==0.11.0->ersilia==0.1.1) (3.0.2)\n",
      "Requirement already satisfied: MarkupSafe>=2.0 in /home/mduranfrigola/miniconda3/envs/ersilia/lib/python3.7/site-packages (from Jinja2>=3.0->flask->bentoml==0.11.0->ersilia==0.1.1) (2.0.1)\n",
      "Requirement already satisfied: thriftpy2>=0.4.0 in /home/mduranfrigola/miniconda3/envs/ersilia/lib/python3.7/site-packages (from py-zipkin->bentoml==0.11.0->ersilia==0.1.1) (0.4.14)\n",
      "Requirement already satisfied: ply<4.0,>=3.4 in /home/mduranfrigola/miniconda3/envs/ersilia/lib/python3.7/site-packages (from thriftpy2>=0.4.0->py-zipkin->bentoml==0.11.0->ersilia==0.1.1) (3.11)\n",
      "Requirement already satisfied: decorator>=3.4.0 in /home/mduranfrigola/.local/lib/python3.7/site-packages (from validators->ersilia==0.1.1) (5.1.1)\n",
      "Requirement already satisfied: requests in /home/mduranfrigola/miniconda3/envs/ersilia/lib/python3.7/site-packages (2.28.1)\n",
      "Requirement already satisfied: idna<4,>=2.5 in /home/mduranfrigola/miniconda3/envs/ersilia/lib/python3.7/site-packages (from requests) (2.10)\n",
      "Requirement already satisfied: urllib3<1.27,>=1.21.1 in /home/mduranfrigola/miniconda3/envs/ersilia/lib/python3.7/site-packages (from requests) (1.25.11)\n",
      "Requirement already satisfied: certifi>=2017.4.17 in /home/mduranfrigola/miniconda3/envs/ersilia/lib/python3.7/site-packages (from requests) (2021.10.8)\n",
      "Requirement already satisfied: charset-normalizer<3,>=2 in /home/mduranfrigola/miniconda3/envs/ersilia/lib/python3.7/site-packages (from requests) (2.0.7)\n"
     ]
    }
   ],
   "source": [
    "%env MINICONDA_INSTALLER_SCRIPT=Miniconda3-py37_4.12.0-Linux-x86_64.sh\n",
    "%env MINICONDA_PREFIX=/usr/local\n",
    "%env PYTHONPATH= \"$PYTHONPATH:/usr/local/lib/python3.7/site-packages\"\n",
    "%env PIP_ROOT_USER_ACTION=ignore\n",
    "\n",
    "!wget https://repo.anaconda.com/miniconda/$MINICONDA_INSTALLER_SCRIPT\n",
    "!chmod +x $MINICONDA_INSTALLER_SCRIPT\n",
    "!./$MINICONDA_INSTALLER_SCRIPT -b -f -p $MINICONDA_PREFIX\n",
    "\n",
    "!python -m pip install git+https://github.com/ersilia-os/ersilia.git\n",
    "!python -m pip install requests --upgrade\n",
    "!rm $MINICONDA_INSTALLER_SCRIPT\n",
    "import sys\n",
    "\n",
    "_ = sys.path.append(\"/usr/local/lib/python3.7/site-packages\")"
   ]
  },
  {
   "cell_type": "code",
   "execution_count": 4,
   "metadata": {},
   "outputs": [],
   "source": [
    "from ersilia import ErsiliaModel\n",
    "\n",
    "em = ErsiliaModel(\"chemprop-antibiotic-lite\")"
   ]
  },
  {
   "cell_type": "code",
   "execution_count": 5,
   "metadata": {},
   "outputs": [],
   "source": [
    "smiles = [\n",
    "    \"CC1C2C(CC3(C=CC(=O)C(=C3C2OC1=O)C)C)O\",\n",
    "    \"C1=CN=CC=C1C(=O)NN\",\n",
    "    \"CC(CN1C=NC2=C(N=CN=C21)N)OCP(=O)(O)O\",\n",
    "    \"CC(=O)OC1=CC=CC=C1C(=O)O\",\n",
    "    \"CC(C)CC1=CC=C(C=C1)C(C)C(=O)O\",\n",
    "    \"CC1(OC2C(OC(C2O1)(C#N)C3=CC=C4N3N=CN=C4N)CO)C\",\n",
    "    \"COC1=CC23CCCN2CCC4=CC5=C(C=C4C3C1O)OCO5\",\n",
    "]\n",
    "\n",
    "em.serve()\n",
    "data = em.run(smiles, output=\"pandas\")"
   ]
  },
  {
   "cell_type": "code",
   "execution_count": 7,
   "metadata": {},
   "outputs": [],
   "source": [
    "data.to_csv(\"output-python-api.csv\", index=False)"
   ]
  }
 ],
 "metadata": {
  "colab": {
   "authorship_tag": "ABX9TyN10gxVjdZEkUFNqJRGD4EG",
   "include_colab_link": true,
   "provenance": []
  },
  "kernelspec": {
   "display_name": "ersilia",
   "language": "python",
   "name": "python3"
  },
  "language_info": {
   "codemirror_mode": {
    "name": "ipython",
    "version": 3
   },
   "file_extension": ".py",
   "mimetype": "text/x-python",
   "name": "python",
   "nbconvert_exporter": "python",
   "pygments_lexer": "ipython3",
   "version": "3.11.4"
  },
  "vscode": {
   "interpreter": {
    "hash": "f4425e10f64e35b5c2846e94987c1961ae0dce9f7acb7463ce8901870868cb33"
   }
  }
 },
 "nbformat": 4,
 "nbformat_minor": 0
}
