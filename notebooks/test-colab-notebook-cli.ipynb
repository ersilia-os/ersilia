{
 "cells": [
  {
   "cell_type": "markdown",
   "metadata": {
    "colab_type": "text",
    "id": "view-in-github"
   },
   "source": [
    "<a href=\"https://colab.research.google.com/github/ersilia-os/ersilia/blob/master/notebooks/test-colab-notebook-cli.ipynb\" target=\"_parent\"><img src=\"https://colab.research.google.com/assets/colab-badge.svg\" alt=\"Open In Colab\"/></a>"
   ]
  },
  {
   "cell_type": "code",
   "execution_count": 1,
   "metadata": {
    "id": "tK-9NmDan9_r"
   },
   "outputs": [],
   "source": [
    "%env MINICONDA_INSTALLER_SCRIPT=Miniconda3-py37_4.12.0-Linux-x86_64.sh\n",
    "%env MINICONDA_PREFIX=/usr/local\n",
    "%env PYTHONPATH= \"$PYTHONPATH:/usr/local/lib/python3.7/site-packages\"\n",
    "%env PIP_ROOT_USER_ACTION=ignore\n",
    "\n",
    "!wget https://repo.anaconda.com/miniconda/$MINICONDA_INSTALLER_SCRIPT\n",
    "!chmod +x $MINICONDA_INSTALLER_SCRIPT\n",
    "!./$MINICONDA_INSTALLER_SCRIPT -b -f -p $MINICONDA_PREFIX\n",
    "\n",
    "!python -m pip install git+https://github.com/ersilia-os/ersilia.git\n",
    "!python -m pip install requests --upgrade\n",
    "import sys\n",
    "\n",
    "_ = sys.path.append(\"/usr/local/lib/python3.7/site-packages\")"
   ]
  },
  {
   "cell_type": "code",
   "execution_count": 2,
   "metadata": {
    "id": "28yw34ZaV9rA"
   },
   "outputs": [],
   "source": [
    "model_name = \"eos4e41\"\n",
    "smi = \"CC(C)CC1=CC=C(C=C1)C(C)C(=O)O\""
   ]
  },
  {
   "cell_type": "code",
   "execution_count": null,
   "metadata": {
    "id": "MOROJyhcWBvV"
   },
   "outputs": [],
   "source": [
    "!ersilia fetch $model_name\n",
    "!ersilia serve $model_name\n",
    "!ersilia api -i \"$smi\" -o output-cli.csv"
   ]
  }
 ],
 "metadata": {
  "colab": {
   "include_colab_link": true,
   "provenance": []
  },
  "kernelspec": {
   "display_name": "Python 3",
   "name": "python3"
  },
  "language_info": {
   "name": "python",
   "version": "3.10.13"
  }
 },
 "nbformat": 4,
 "nbformat_minor": 0
}
