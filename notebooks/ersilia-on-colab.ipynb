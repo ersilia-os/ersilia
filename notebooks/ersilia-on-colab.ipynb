{
 "cells": [
  {
   "cell_type": "markdown",
   "metadata": {
    "id": "view-in-github",
    "colab_type": "text"
   },
   "source": [
    "<a href=\"https://colab.research.google.com/github/ersilia-os/ersilia/blob/master/notebooks/ersilia-on-colab.ipynb\" target=\"_parent\"><img src=\"https://colab.research.google.com/assets/colab-badge.svg\" alt=\"Open In Colab\"/></a>"
   ]
  },
  {
   "cell_type": "markdown",
   "metadata": {
    "id": "Nma_JWh-W-IF"
   },
   "source": [
    "\n",
    "<div class=\"markdown-google-sans\">\n",
    "  <h2>Welcome to Ersilia on Google Colaboratory!</h1>\n",
    "</div>\n",
    "\n",
    "*   Follow the steps below to fetch, serve and predict/calculate your AI models.\n",
    "*   For more detailed instructions, visit the Ersilia colab guide."
   ]
  },
  {
   "cell_type": "code",
   "execution_count": null,
   "metadata": {
    "id": "gJr_9dXGpJ05",
    "cellView": "form"
   },
   "outputs": [],
   "source": [
    "# @title 🏃‍♀️ Install Ersilia on Colab\n",
    "\n",
    "\n",
    "%%capture\n",
    "%env MINICONDA_INSTALLER_SCRIPT=Miniconda3-py37_4.12.0-Linux-x86_64.sh\n",
    "%env MINICONDA_PREFIX=/usr/local\n",
    "%env PYTHONPATH= \"$PYTHONPATH:/usr/local/lib/python3.7/site-packages\"\n",
    "%env PIP_ROOT_USER_ACTION=ignore\n",
    "\n",
    "!wget https://repo.anaconda.com/miniconda/$MINICONDA_INSTALLER_SCRIPT\n",
    "!chmod +x $MINICONDA_INSTALLER_SCRIPT\n",
    "!./$MINICONDA_INSTALLER_SCRIPT -b -f -p $MINICONDA_PREFIX\n",
    "\n",
    "!python -m pip install git+https://github.com/ersilia-os/ersilia.git\n",
    "!python -m pip install requests --upgrade\n",
    "import sys\n",
    "\n",
    "_ = sys.path.append(\"/usr/local/lib/python3.7/site-packages\")"
   ]
  },
  {
   "cell_type": "code",
   "execution_count": null,
   "metadata": {
    "id": "C4HZx7Gndbrh",
    "cellView": "form"
   },
   "outputs": [],
   "source": [
    "# @title 🔗 Connect Colab to your Google Drive\n",
    "\n",
    "## Mount google drive\n",
    "from google.colab import drive\n",
    "\n",
    "drive.mount(\"/content/drive\")\n",
    "\n",
    "## Click on the folder/directory icon to the left\n",
    "##      and make sure your drive is mounted"
   ]
  },
  {
   "cell_type": "markdown",
   "metadata": {
    "id": "4_kCnsPUqS6o"
   },
   "source": [
    "<div class=\"markdown-google-sans\">\n",
    "\n",
    "### 📩 Specify your file paths and the input .csv file\n",
    "</div>\n",
    "\n",
    "<div>\n",
    "\n",
    "*  Make sure you have a .csv file containing a list of molecules represented as SMILES string\n",
    "* Specify the exact column name of your smiles column in the .csv file\n",
    "*  Specify the path to your file in Google Drive\n",
    "*  Specify the path where you want to store the results in Google Drive \n",
    "\n",
    "</div> "
   ]
  },
  {
   "cell_type": "code",
   "source": [
    "# specify your input folder\n",
    "\n",
    "input_folder = \"/content/drive/MyDrive/Ersilia\"  # @param {type:\"string\"}"
   ],
   "metadata": {
    "id": "7pKQI_LTPa1G",
    "cellView": "form"
   },
   "execution_count": null,
   "outputs": []
  },
  {
   "cell_type": "code",
   "source": [
    "# specify your output folder\n",
    "\n",
    "output_folder = \"/content/drive/MyDrive/Ersilia\"  # @param {type:\"string\"}"
   ],
   "metadata": {
    "id": "2r13dGXgLxKF",
    "cellView": "form"
   },
   "execution_count": null,
   "outputs": []
  },
  {
   "cell_type": "code",
   "source": [
    "# specify the name of your input csv file\n",
    "\n",
    "input_filename = \"eml_canonical\"  # @param {type:\"string\"}"
   ],
   "metadata": {
    "id": "ywqZyGWnP4Ef",
    "cellView": "form"
   },
   "execution_count": null,
   "outputs": []
  },
  {
   "cell_type": "code",
   "source": [
    "# specify the SMILES column name\n",
    "smiles_column = \"can_smiles\"  # @param {type:\"string\"}"
   ],
   "metadata": {
    "cellView": "form",
    "id": "WW16pY7-xLOV"
   },
   "execution_count": null,
   "outputs": []
  },
  {
   "cell_type": "code",
   "execution_count": null,
   "metadata": {
    "id": "JdoU9sr6D4su",
    "cellView": "form"
   },
   "outputs": [],
   "source": [
    "# @title 🔤 Extract SMILES to a list\n",
    "import pandas as pd\n",
    "\n",
    "path = \"%s/%s.csv\" % (input_folder, input_filename)\n",
    "smi_col = \"%s\" % smiles_column\n",
    "df = pd.read_csv(path)\n",
    "smiles = df[smi_col].tolist()\n",
    "\n",
    "print(\"My dataset contains\" + \" \" + str(len(smiles)) + \" \" + \"SMILES\")"
   ]
  },
  {
   "cell_type": "markdown",
   "metadata": {
    "id": "OwuxHmxllTwN"
   },
   "source": [
    "<div class=\"markdown-google-sans\">\n",
    "\n",
    "#### 🚀 Use the Ersilia Model Hub to run predictions for your molecules. Check all available models [here](https://ersilia.io/model-hub)\n",
    "</div>\n",
    "\n",
    "1. Enter the model name\n",
    "2. Fetch models\n",
    "3. Make predictions or calculations\n",
    "4. Save the result to a .csv file in your google drive."
   ]
  },
  {
   "cell_type": "code",
   "source": [
    "# Enter the model name\n",
    "# This is just an example, make sure to adapt it to your specific model\n",
    "\n",
    "model_name = \"eos3b5e\"  # @param {type:\"string\"}"
   ],
   "metadata": {
    "id": "5xqTcuegSyQF",
    "cellView": "form"
   },
   "execution_count": null,
   "outputs": []
  },
  {
   "cell_type": "code",
   "execution_count": null,
   "metadata": {
    "id": "mWRZdAMkmgxZ",
    "cellView": "form"
   },
   "outputs": [],
   "source": [
    "# @title 📥 Fetch the model\n",
    "import time\n",
    "\n",
    "begin = time.time()\n",
    "!ersilia fetch $model_name\n",
    "end = time.time()\n",
    "\n",
    "print(\"Time taken:\", round((end - begin), 2), \"seconds\")"
   ]
  },
  {
   "cell_type": "code",
   "source": [
    "# @title ⚙️ Serve the model\n",
    "\n",
    "# returns available APIs (calculate or predict)\n",
    "\n",
    "!ersilia serve $model_name"
   ],
   "metadata": {
    "id": "uYsEZpQ1gN8x",
    "cellView": "form"
   },
   "execution_count": null,
   "outputs": []
  },
  {
   "cell_type": "code",
   "execution_count": null,
   "metadata": {
    "id": "TYmcRRZ4mnkx",
    "cellView": "form"
   },
   "outputs": [],
   "source": [
    "# @title ⚡ Run predictions\n",
    "api = \"calculate\"  # @param {type:\"string\"}\n",
    "\n",
    "from ersilia import ErsiliaModel\n",
    "import time\n",
    "\n",
    "model = ErsiliaModel(model_name)\n",
    "begin = time.time()\n",
    "output = model.api(input=smiles, output=\"pandas\")\n",
    "end = time.time()\n",
    "\n",
    "print(\"Successful 👍! Time taken:\", round((end - begin), 2), \"seconds\")\n",
    "model.close()"
   ]
  },
  {
   "cell_type": "code",
   "source": [
    "# @title ✔️ Check your results\n",
    "\n",
    "print(output.head())"
   ],
   "metadata": {
    "cellView": "form",
    "id": "ipckLYxPS3GY"
   },
   "execution_count": null,
   "outputs": []
  },
  {
   "cell_type": "code",
   "execution_count": null,
   "metadata": {
    "id": "1cg9EqzVnJSs",
    "cellView": "form"
   },
   "outputs": [],
   "source": [
    "# @title 💾 Save your results in Google Drive\n",
    "\n",
    "output_path = \"%s/%s_output.csv\" % (output_folder, model_name)\n",
    "output.to_csv(output_path, index=False)"
   ]
  }
 ],
 "metadata": {
  "colab": {
   "collapsed_sections": [
    "GJBs_flRovLc",
    "UdRyKR44dcNI"
   ],
   "provenance": [],
   "include_colab_link": true
  },
  "kernelspec": {
   "display_name": "Python 3",
   "name": "python3"
  }
 },
 "nbformat": 4,
 "nbformat_minor": 0
}
