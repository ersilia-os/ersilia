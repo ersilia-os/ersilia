{
  "cells": [
    {
      "cell_type": "markdown",
      "metadata": {
        "id": "view-in-github",
        "colab_type": "text"
      },
      "source": [
        "<a href=\"https://colab.research.google.com/github/ersilia-os/ersilia/blob/master/notebooks/Colab_Template.ipynb\" target=\"_parent\"><img src=\"https://colab.research.google.com/assets/colab-badge.svg\" alt=\"Open In Colab\"/></a>"
      ]
    },
    {
      "cell_type": "markdown",
      "metadata": {
        "id": "Nma_JWh-W-IF"
      },
      "source": [
        "\n",
        "<div class=\"markdown-google-sans\">\n",
        "  <h2>Welcome to Ersilia on Google Colaboratory!</h1>\n",
        "</div>\n",
        "\n",
        "*   Follow the steps below to fetch, serve and predict/calculate your AI models.\n",
        "*   For more detailed instructions, visit the Ersilia colab guide."
      ]
    },
    {
      "cell_type": "markdown",
      "metadata": {
        "id": "GJBs_flRovLc"
      },
      "source": [
        "<div class=\"markdown-google-sans\">\n",
        "\n",
        "#### Install the Ersilia environment\n",
        "</div>\n",
        "\n",
        "*Always do this first!!*"
      ]
    },
    {
      "cell_type": "code",
      "execution_count": null,
      "metadata": {
        "id": "gJr_9dXGpJ05"
      },
      "outputs": [],
      "source": [
        "\n",
        "%%capture\n",
        "%env MINICONDA_INSTALLER_SCRIPT=Miniconda3-py37_4.12.0-Linux-x86_64.sh\n",
        "%env MINICONDA_PREFIX=/usr/local\n",
        "%env PYTHONPATH={PYTHONPATH}:/usr/local/lib/python3.7/site-packages\n",
        "%env CONDA_PREFIX=/usr/local\n",
        "%env CONDA_PREFIX_1=/usr/local\n",
        "%env CONDA_DIR=/usr/local\n",
        "%env CONDA_DEFAULT_ENV=base\n",
        "%env PIP_ROOT_USER_ACTION=ignore\n",
        "!wget https://repo.anaconda.com/miniconda/$MINICONDA_INSTALLER_SCRIPT\n",
        "!chmod +x $MINICONDA_INSTALLER_SCRIPT\n",
        "!./$MINICONDA_INSTALLER_SCRIPT -b -f -p $MINICONDA_PREFIX\n",
        "!python -m pip install git+https://github.com/ersilia-os/ersilia.git\n",
        "!python -m pip install requests --upgrade\n",
        "import sys\n",
        "_ = (sys.path.append(\"/usr/local/lib/python3.7/site-packages\"))"
      ]
    },
    {
      "cell_type": "markdown",
      "metadata": {
        "id": "UdRyKR44dcNI"
      },
      "source": [
        "<div class=\"markdown-google-sans\">\n",
        "\n",
        "#### Connect Colab to your Google Drive\n",
        "</div>"
      ]
    },
    {
      "cell_type": "code",
      "execution_count": null,
      "metadata": {
        "id": "C4HZx7Gndbrh",
        "colab": {
          "base_uri": "https://localhost:8080/"
        },
        "outputId": "26cf35b5-2ac4-414e-b7e5-0777e63b8b82"
      },
      "outputs": [
        {
          "output_type": "stream",
          "name": "stdout",
          "text": [
            "Mounted at /content/drive\n"
          ]
        }
      ],
      "source": [
        "## Mount google drive\n",
        "from google.colab import drive\n",
        "drive.mount('/content/drive')\n",
        "\n",
        "## Click on the folder/directory icon to the left \n",
        "##      and make sure your drive is mounted"
      ]
    },
    {
      "cell_type": "markdown",
      "metadata": {
        "id": "4_kCnsPUqS6o"
      },
      "source": [
        "<div class=\"markdown-google-sans\">\n",
        "\n",
        "#### Specify your file paths and the input .csv file\n",
        "</div>\n",
        "\n",
        "<div>\n",
        "\n",
        "*  Click on the folder icon to the left and upload your .csv file which will be used for the prediction/calculation.\n",
        "*  Specify your input path\n",
        "*  Specify your outout path. \n",
        "*  Extract the smiles column in your \".csv\" file into a list to pass to Ersilia Models. \n",
        "\n",
        "</div> "
      ]
    },
    {
      "cell_type": "code",
      "source": [
        "#specify your input folder\n",
        "\n",
        "input_folder=\"/content/drive/MyDrive/Ersilia\" #@param {type:\"string\"}"
      ],
      "metadata": {
        "id": "7pKQI_LTPa1G"
      },
      "execution_count": null,
      "outputs": []
    },
    {
      "cell_type": "code",
      "source": [
        "#specify your output folder\n",
        "\n",
        "output_folder=\"/content/drive/MyDrive/Ersilia\" #@param {type:\"string\"}"
      ],
      "metadata": {
        "id": "2r13dGXgLxKF"
      },
      "execution_count": null,
      "outputs": []
    },
    {
      "cell_type": "code",
      "source": [
        "#specify the name of your input csv file\n",
        "\n",
        "input_filename =\"eml_canonical\" #@param {type:\"string\"}"
      ],
      "metadata": {
        "id": "ywqZyGWnP4Ef"
      },
      "execution_count": null,
      "outputs": []
    },
    {
      "cell_type": "code",
      "execution_count": null,
      "metadata": {
        "id": "JdoU9sr6D4su",
        "colab": {
          "base_uri": "https://localhost:8080/"
        },
        "outputId": "9bfb09ce-cf2e-4e06-ca66-757159c10381"
      },
      "outputs": [
        {
          "output_type": "stream",
          "name": "stdout",
          "text": [
            "442\n"
          ]
        }
      ],
      "source": [
        "import pandas as pd\n",
        "\n",
        "path = \"%s/%s.csv\" % (input_folder,input_filename)\n",
        "df = pd.read_csv(path)\n",
        "smiles = df[\"can_smiles\"].tolist()\n",
        "\n",
        "print(len(smiles))"
      ]
    },
    {
      "cell_type": "markdown",
      "metadata": {
        "id": "OwuxHmxllTwN"
      },
      "source": [
        "<div class=\"markdown-google-sans\">\n",
        "\n",
        "#### Use ersilia's python library to run predictions/calculations\n",
        "</div>\n",
        "\n",
        "- Enter the model name\n",
        "- Fetch models\n",
        "- Make predictions or calculations\n",
        "- Save the result to a .csv file in your google drive."
      ]
    },
    {
      "cell_type": "code",
      "source": [
        "# Enter the model name\n",
        "# This is just an example, make sure to adapt it to your specific model \n",
        "\n",
        "model_name = \"eos92sw\" #@param {type:\"string\"}"
      ],
      "metadata": {
        "id": "5xqTcuegSyQF"
      },
      "execution_count": null,
      "outputs": []
    },
    {
      "cell_type": "code",
      "execution_count": null,
      "metadata": {
        "id": "mWRZdAMkmgxZ",
        "colab": {
          "base_uri": "https://localhost:8080/"
        },
        "outputId": "f74101ea-c74c-46cc-e542-ebdb1fd2ae0e"
      },
      "outputs": [
        {
          "output_type": "stream",
          "name": "stdout",
          "text": [
            "\u001b[34m⬇️  Fetching model eos92sw: etoxpred\u001b[0m\n",
            "\u001b[32m👍 Model eos92sw fetched successfully!\u001b[0m\n",
            "Time taken: 132.62 seconds\n"
          ]
        }
      ],
      "source": [
        "# fetch the model\n",
        "import time\n",
        "\n",
        "begin = time.time()\n",
        "!ersilia fetch $model_name\n",
        "end = time.time()\n",
        "\n",
        "print('Time taken:', round((end - begin),2),'seconds')"
      ]
    },
    {
      "cell_type": "code",
      "source": [
        "# serve the model\n",
        "# returns available APIs (calculate or predict)\n",
        "\n",
        "!ersilia serve $model_name"
      ],
      "metadata": {
        "id": "uYsEZpQ1gN8x",
        "colab": {
          "base_uri": "https://localhost:8080/"
        },
        "outputId": "ae0bb1c3-20a2-4513-bbf1-ecbac831f638"
      },
      "execution_count": null,
      "outputs": [
        {
          "output_type": "stream",
          "name": "stdout",
          "text": [
            "\u001b[32m🚀 Serving model eos92sw: etoxpred\u001b[0m\n",
            "\u001b[0m\n",
            "\u001b[33m   URL: http://127.0.0.1:59423\u001b[0m\n",
            "\u001b[33m   PID: 3046\u001b[0m\n",
            "\u001b[33m   SRV: conda\u001b[0m\n",
            "\u001b[0m\n",
            "\u001b[34m👉 Available APIs:\u001b[0m\n",
            "\u001b[34m   - predict\u001b[0m\n"
          ]
        }
      ]
    },
    {
      "cell_type": "code",
      "execution_count": null,
      "metadata": {
        "id": "TYmcRRZ4mnkx",
        "colab": {
          "base_uri": "https://localhost:8080/"
        },
        "outputId": "3af2d6e0-a756-406e-ae20-ac7056f29af8"
      },
      "outputs": [
        {
          "output_type": "stream",
          "name": "stdout",
          "text": [
            "Successful 👍! Time taken: 49.31 seconds\n"
          ]
        }
      ],
      "source": [
        "# calculate or predict the model\n",
        "# if Available APIs is calculate, change output from model.predict to model.calculate\n",
        "from ersilia import ErsiliaModel\n",
        "import time\n",
        "\n",
        "model = ErsiliaModel(model_name)\n",
        "begin = time.time()\n",
        "output = model.predict(input=smiles, output=\"pandas\")\n",
        "end = time.time()\n",
        "\n",
        "print('Successful 👍! Time taken:', round((end - begin),2),'seconds')\n",
        "model.close()"
      ]
    },
    {
      "cell_type": "code",
      "execution_count": null,
      "metadata": {
        "id": "1cg9EqzVnJSs"
      },
      "outputs": [],
      "source": [
        "#Once the calculation or prediction is successful,\n",
        "#name the output .csv file and save it in the Google Drive\n",
        "\n",
        "output_path = \"%s/%s_output.csv\" %(output_folder,model_name)\n",
        "output.to_csv(output_path, index=False)"
      ]
    }
  ],
  "metadata": {
    "colab": {
      "collapsed_sections": [
        "GJBs_flRovLc",
        "UdRyKR44dcNI"
      ],
      "provenance": [],
      "include_colab_link": true
    },
    "kernelspec": {
      "display_name": "Python 3",
      "name": "python3"
    }
  },
  "nbformat": 4,
  "nbformat_minor": 0
}