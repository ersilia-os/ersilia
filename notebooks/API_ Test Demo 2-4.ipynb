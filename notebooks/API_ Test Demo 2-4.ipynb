{
 "cells": [
  {
   "cell_type": "markdown",
   "id": "c4c3f1ad-11c4-48f8-aab0-53779f80d6f3",
   "metadata": {},
   "source": [
    "### ErsiliaAPI Demo II – Tuberculosis Drug Discovery Pipeline"
   ]
  },
  {
   "cell_type": "markdown",
   "id": "91d480fd-b94e-4e61-988f-053af35fa067",
   "metadata": {
    "editable": true,
    "slideshow": {
     "slide_type": ""
    },
    "tags": []
   },
   "source": [
    "TB: Tuberculosis"
   ]
  },
  {
   "cell_type": "markdown",
   "id": "b44874cf-1308-4a09-a96c-7c9d07a1e1ad",
   "metadata": {},
   "source": [
    "--> \"the anti-tuberculosis (TB) drug remains too high\""
   ]
  },
  {
   "cell_type": "markdown",
   "id": "b2a0630a-3210-4911-85aa-ed6e08245d37",
   "metadata": {},
   "source": [
    "--> Over 10 million cases per year"
   ]
  },
  {
   "cell_type": "markdown",
   "id": "a992a324-8837-445b-8449-0b442971b80d",
   "metadata": {},
   "source": [
    "--> ~1.3 million deaths annually"
   ]
  },
  {
   "cell_type": "markdown",
   "id": "c3837033-895f-46dd-a968-16cbf68348cf",
   "metadata": {},
   "source": [
    "--> Primarily affects people in South Asia, Sub-Saharan Africa, and parts of Eastern Europe"
   ]
  },
  {
   "cell_type": "markdown",
   "id": "e30de842-b1c6-492f-a40d-33501fc17f57",
   "metadata": {},
   "source": [
    "--> Current treatments are long and expensive: Standard TB treatment takes 6 months with a four-drug combination, can cost $400-$1000"
   ]
  },
  {
   "cell_type": "markdown",
   "id": "a0d0512b-3ceb-43c3-8063-597d43c78914",
   "metadata": {},
   "source": [
    "**1. GDBMedChem similarity search: Finding Similar Compounds to TB Treatment Compound**"
   ]
  },
  {
   "cell_type": "code",
   "execution_count": 12,
   "id": "5e756347-5289-4452-9fe7-7118a9e6966d",
   "metadata": {},
   "outputs": [],
   "source": [
    "# \"eos7jlv\" = GDBMedChem similarity search\n",
    "\n",
    "from ersilia.api import ErsiliaAPI\n",
    "\n",
    "mdl_simil = ErsiliaAPI(\"eos7jlv\")"
   ]
  },
  {
   "cell_type": "code",
   "execution_count": 13,
   "id": "bd25c5ae-4e24-4ef9-8ac2-3ccfdfc37e5b",
   "metadata": {},
   "outputs": [
    {
     "name": "stdout",
     "output_type": "stream",
     "text": [
      "\u001b[34m⬇️  Fetching model eos7jlv: gdbmedchem-similarity\u001b[0m\n",
      "\u001b[34mGetting model source\u001b[0m\n",
      "\u001b[31mModel already exists on your system. If you want to fetch it again, please delete it first.\u001b[0m\n",
      "\u001b[31m👎 Model eos7jlv failed to fetch! Model already exists on your system. If you want to fetch it again, please delete the existing model first.\u001b[0m\n"
     ]
    }
   ],
   "source": [
    "mdl_simil.fetch()"
   ]
  },
  {
   "cell_type": "code",
   "execution_count": 14,
   "id": "9292b4c5-e135-4e3b-9e5a-28df2db3c027",
   "metadata": {},
   "outputs": [
    {
     "name": "stdout",
     "output_type": "stream",
     "text": [
      "\u001b[34mServing model. This process may take some time...\u001b[0m\n",
      "\u001b[32m🚀 Serving model eos7jlv: gdbmedchem-similarity\u001b[0m\n",
      "\u001b[0m\n",
      "\u001b[33m   URL: http://0.0.0.0:53595\u001b[0m\n",
      "\u001b[33m   SRV: pulled_docker\u001b[0m\n",
      "\u001b[33m   Session: /Users/ziminqian/eos/sessions/session_71855\u001b[0m\n",
      "\u001b[0m\n",
      "\u001b[34m🔄 Cache fetching mode:\u001b[0m\n",
      "\u001b[31m   - Disabled\u001b[0m\n",
      "\u001b[0m\n",
      "\u001b[34m💾 Local cache:\u001b[0m\n",
      "\u001b[32m   - Enabled\u001b[0m\n",
      "\u001b[0m\n",
      "\u001b[34m📈 Tracking:\u001b[0m\n",
      "\u001b[31m   - Disabled\u001b[0m\n"
     ]
    }
   ],
   "source": [
    "mdl_simil.serve()"
   ]
  },
  {
   "cell_type": "markdown",
   "id": "9ba5cee7-04ff-4225-b84f-58dc48a6240c",
   "metadata": {},
   "source": [
    " Compounds of Current Treatments:"
   ]
  },
  {
   "cell_type": "markdown",
   "id": "d65c146e-e7f3-4b5a-aed0-bb9ffc51043c",
   "metadata": {},
   "source": [
    "The expensive and time-consuming 4-month TB treatment regimen consists of:"
   ]
  },
  {
   "cell_type": "markdown",
   "id": "6a07709c-198b-4e11-88de-683e24d40d01",
   "metadata": {},
   "source": [
    "-->Isoniazid (H): \"C1=CN=CC=C1C(=O)NN\""
   ]
  },
  {
   "cell_type": "markdown",
   "id": "3f7f6385-9c21-4c82-a3a3-f104173b2cb1",
   "metadata": {},
   "source": [
    "--> Rifapentine (P): \"C[C@H]1/C=C/C=C(\\C(=O)NC2=C(C(=C3C(=C2O)C(=C(C4=C3C(=O)[C@](O4)(O/C=C/[C@@H]([C@H]([C@H]([C@@H]([C@@H]([C@@H]([C@H]1O)C)O)C)OC(=O)C)C)OC)C)C)O)O)/C=N/N5CCN(CC5)C6CCCC6)/C\""
   ]
  },
  {
   "cell_type": "markdown",
   "id": "e247a8e1-a790-4c6a-b2be-ceeb37c6098c",
   "metadata": {},
   "source": [
    "--> Pyrazinamide (Z): \"C1=CN=C(C=N1)C(=O)N]\""
   ]
  },
  {
   "cell_type": "markdown",
   "id": "b3b3ec0e-764f-4b85-b55a-2ff7f5193634",
   "metadata": {},
   "source": [
    "--> Moxifloxacin (M):\"COC1=C2C(=CC(=C1N3C[C@@H]4CCCN[C@@H]4C3)F)C(=O)C(=CN2C5CC5)C(=O)O\""
   ]
  },
  {
   "cell_type": "code",
   "execution_count": null,
   "id": "f464a895-f7d4-47fe-aacc-9d3f8f7ce798",
   "metadata": {},
   "outputs": [
    {
     "name": "stderr",
     "output_type": "stream",
     "text": [
      "<>:1: SyntaxWarning: invalid escape sequence '\\C'\n",
      "<>:1: SyntaxWarning: invalid escape sequence '\\C'\n",
      "/var/folders/0s/6kx9pjxn1ln7w02n_bnkwxs80000gn/T/ipykernel_71868/535396911.py:1: SyntaxWarning: invalid escape sequence '\\C'\n",
      "  input = [\"C1=CN=CC=C1C(=O)NN\", \"C[C@H]1/C=C/C=C(\\C(=O)NC2=C(C(=C3C(=C2O)C(=C(C4=C3C(=O)[C@](O4)(O/C=C/[C@@H]([C@H]([C@H]([C@@H]([C@@H]([C@@H]([C@H]1O)C)O)C)OC(=O)C)C)OC)C)C)O)O)/C=N/N5CCN(CC5)C6CCCC6)/C\", \"C1=CN=C(C=N1)C(=O)N]\", \"COC1=C2C(=CC(=C1N3C[C@@H]4CCCN[C@@H]4C3)F)C(=O)C(=CN2C5CC5)C(=O)O\"]\n"
     ]
    },
    {
     "name": "stdout",
     "output_type": "stream",
     "text": [
      "Starting runner\u001b[0m\n",
      "Running batch 1\u001b[0m\n",
      "Batch 1 response fetched within: 11.1703 seconds\u001b[0m\n",
      "Output is being generated within: 11.42674 seconds\u001b[0m\n",
      "\u001b[32m\u001b[1m✅ The output successfully generated in TB_Similarity_Results.csv file!\u001b[0m\n"
     ]
    }
   ],
   "source": [
    "# input = [\"C1=CN=CC=C1C(=O)NN\", \"C[C@H]1/C=C/C=C(\\C(=O)NC2=C(C(=C3C(=C2O)C(=C(C4=C3C(=O)[C@](O4)(O/C=C/[C@@H]([C@H]([C@H]([C@@H]([C@@H]([C@@H]([C@H]1O)C)O)C)OC(=O)C)C)OC)C)C)O)O)/C=N/N5CCN(CC5)C6CCCC6)/C\", \"C1=CN=C(C=N1)C(=O)N]\", \"COC1=C2C(=CC(=C1N3C[C@@H]4CCCN[C@@H]4C3)F)C(=O)C(=CN2C5CC5)C(=O)O\"]\n",
    "mdl_simil.run(input, output=\"TB_Similarity_Results.csv\", batch_size=5)"
   ]
  },
  {
   "cell_type": "markdown",
   "id": "7a18f5fb-5ccf-44dd-b38f-f88ad61b3fb5",
   "metadata": {},
   "source": [
    "Output: finding compounds similar to current tuberculosis treatment compounds"
   ]
  },
  {
   "cell_type": "code",
   "execution_count": null,
   "id": "a24eac67-6cf9-4935-8ca4-e1e6f9b940b2",
   "metadata": {},
   "outputs": [],
   "source": [
    "mdl_simil.example(\"TB_Simil_example\", True, True, 5, False)"
   ]
  },
  {
   "cell_type": "markdown",
   "id": "09dd8a83-18e1-4b42-a673-800fdf9c9688",
   "metadata": {},
   "source": [
    "Output: /Users/ziminqian/Desktop/ersilia/TB_Similarity_Results.csv"
   ]
  },
  {
   "cell_type": "code",
   "execution_count": null,
   "id": "424181b5-8a64-4c0a-a89f-96b7e16263d1",
   "metadata": {},
   "outputs": [],
   "source": [
    "mdl_simil.close()\n",
    "mdl_simil.delete()"
   ]
  },
  {
   "cell_type": "markdown",
   "id": "18d87694-92ed-4e62-8bf7-9f8bb9b5837a",
   "metadata": {},
   "source": [
    " **2. CARDIOTOXICITY CLASSIFIER**"
   ]
  },
  {
   "cell_type": "markdown",
   "id": "e1690f59-a4c1-401c-bb3e-2195ac067d97",
   "metadata": {},
   "source": [
    "Using only the outputs of the similarity model, we can determine the cardiotoxicity of these three outputs that are similar to the treatment compounds. Note: no similar compounds were found for Pyrazinamide (Z): \"C1=CN=C(C=N1)C(=O)N]\"."
   ]
  },
  {
   "cell_type": "code",
   "execution_count": 16,
   "id": "4459eb84-e2e3-4506-943c-6f5e80c6b49a",
   "metadata": {},
   "outputs": [
    {
     "name": "stdout",
     "output_type": "stream",
     "text": [
      "\u001b[34m⬇️  Fetching model eos1pu1: cardiotox-dictrank\u001b[0m\n",
      "\u001b[34mGetting model source\u001b[0m\n",
      "\u001b[34mModel doesn't exist on your system, fetching it now.\u001b[0m\n",
      "\u001b[34mInitiating fetch from DockerHub — this process may take some time...\u001b[0m\n",
      "\u001b[34mWriting model source to file\u001b[0m\n",
      "\u001b[32m👍 Model eos1pu1 fetched successfully!\u001b[0m\n",
      "\u001b[34mServing model. This process may take some time...\u001b[0m\n",
      "\u001b[32m🚀 Serving model eos1pu1: cardiotox-dictrank\u001b[0m\n",
      "\u001b[0m\n",
      "\u001b[33m   URL: http://0.0.0.0:54357\u001b[0m\n",
      "\u001b[33m   SRV: pulled_docker\u001b[0m\n",
      "\u001b[33m   Session: /Users/ziminqian/eos/sessions/session_71855\u001b[0m\n",
      "\u001b[0m\n",
      "\u001b[34m🔄 Cache fetching mode:\u001b[0m\n",
      "\u001b[31m   - Disabled\u001b[0m\n",
      "\u001b[0m\n",
      "\u001b[34m💾 Local cache:\u001b[0m\n",
      "\u001b[32m   - Enabled\u001b[0m\n",
      "\u001b[0m\n",
      "\u001b[34m📈 Tracking:\u001b[0m\n",
      "\u001b[31m   - Disabled\u001b[0m\n",
      "Starting runner\u001b[0m\n",
      "Running batch 1\u001b[0m\n",
      "Batch 1 response fetched within: 0.9329 seconds\u001b[0m\n",
      "Output is being generated within: 0.97129 seconds\u001b[0m\n",
      "\u001b[32m\u001b[1m✅ The output successfully generated in TB_Cardiotoxicity_Results.csv file!\u001b[0m\n",
      "\u001b[32m⛔ Model eos1pu1 closed\u001b[0m\n",
      "Deleting model eos1pu1\u001b[0m\n",
      "\u001b[32m💥 Model eos1pu1 deleted successfully!\u001b[0m\n"
     ]
    }
   ],
   "source": [
    "# \"eos1pu1\" cardiotoxicity classifier\n",
    "from ersilia.api import ErsiliaAPI\n",
    "\n",
    "mdl_toxicity = ErsiliaAPI(\"eos1pu1\")\n",
    "mdl_toxicity.fetch()\n",
    "mdl_toxicity.serve()\n",
    "input = [\n",
    "    \"CNC(C#CCO)(C(=O)C#N)c1ccco1\",\n",
    "    \"CC(=O)C1(C)C=C(C)C(O)C1=O\",\n",
    "    \"O=C1CCC(CC1)C1CCC[NH2+]1\",\n",
    "]\n",
    "\n",
    "mdl_toxicity.run(input, output=\"TB_Cardiotoxicity_Results.csv\", batch_size=100)\n",
    "mdl_toxicity.close()\n",
    "mdl_toxicity.delete()"
   ]
  },
  {
   "cell_type": "markdown",
   "id": "5729f3a3-99f5-40c0-9b1a-52971220b9b6",
   "metadata": {},
   "source": [
    "Cardiotoxicity Plot:"
   ]
  },
  {
   "cell_type": "code",
   "execution_count": 17,
   "id": "ac90b84a-f81e-4d51-8be1-197b9df9d5a5",
   "metadata": {},
   "outputs": [
    {
     "name": "stdout",
     "output_type": "stream",
     "text": [
      "Requirement already satisfied: matplotlib in /opt/miniconda3/envs/ersilia/lib/python3.12/site-packages (3.10.3)\n",
      "Requirement already satisfied: contourpy>=1.0.1 in /opt/miniconda3/envs/ersilia/lib/python3.12/site-packages (from matplotlib) (1.3.2)\n",
      "Requirement already satisfied: cycler>=0.10 in /opt/miniconda3/envs/ersilia/lib/python3.12/site-packages (from matplotlib) (0.12.1)\n",
      "Requirement already satisfied: fonttools>=4.22.0 in /opt/miniconda3/envs/ersilia/lib/python3.12/site-packages (from matplotlib) (4.58.5)\n",
      "Requirement already satisfied: kiwisolver>=1.3.1 in /opt/miniconda3/envs/ersilia/lib/python3.12/site-packages (from matplotlib) (1.4.8)\n",
      "Requirement already satisfied: numpy>=1.23 in /opt/miniconda3/envs/ersilia/lib/python3.12/site-packages (from matplotlib) (1.26.4)\n",
      "Requirement already satisfied: packaging>=20.0 in /opt/miniconda3/envs/ersilia/lib/python3.12/site-packages (from matplotlib) (25.0)\n",
      "Requirement already satisfied: pillow>=8 in /opt/miniconda3/envs/ersilia/lib/python3.12/site-packages (from matplotlib) (11.3.0)\n",
      "Requirement already satisfied: pyparsing>=2.3.1 in /opt/miniconda3/envs/ersilia/lib/python3.12/site-packages (from matplotlib) (3.2.3)\n",
      "Requirement already satisfied: python-dateutil>=2.7 in /opt/miniconda3/envs/ersilia/lib/python3.12/site-packages (from matplotlib) (2.9.0.post0)\n",
      "Requirement already satisfied: six>=1.5 in /opt/miniconda3/envs/ersilia/lib/python3.12/site-packages (from python-dateutil>=2.7->matplotlib) (1.17.0)\n"
     ]
    },
    {
     "data": {
      "image/png": "[encoded data removed]",
      "text/plain": [
       "<Figure size 1000x600 with 1 Axes>"
      ]
     },
     "metadata": {},
     "output_type": "display_data"
    }
   ],
   "source": [
    "# Cardiotoxicity visual for these compounds\n",
    "import pandas as pd\n",
    "\n",
    "!pip install matplotlib\n",
    "import matplotlib.pyplot as plt\n",
    "\n",
    "# Load the CSV\n",
    "df = pd.read_csv(\"/Users/ziminqian/Desktop/ersilia/TB_Cardiotoxicity_Results.csv\")\n",
    "\n",
    "# Plot\n",
    "plt.figure(figsize=(10, 6))\n",
    "plt.bar(df[\"input\"], df[\"cardiotoxicity_risk\"])\n",
    "\n",
    "plt.xlabel(\"Compound (SMILES)\")\n",
    "plt.ylabel(\"Cardiotoxicity Risk\")\n",
    "plt.title(\"Cardiotoxicity Risk by Compound\")\n",
    "plt.xticks(rotation=90)\n",
    "plt.tight_layout()\n",
    "plt.show()"
   ]
  },
  {
   "cell_type": "markdown",
   "id": "13a3220c-5a4b-407c-93aa-d8ebe90f4455",
   "metadata": {},
   "source": [
    "OUTPUT: /Users/ziminqian/Desktop/ersilia/TB_Cardiotoxicity_Results.csv"
   ]
  },
  {
   "cell_type": "markdown",
   "id": "f9061b3a-932f-406e-a7a9-056c1a54b8a4",
   "metadata": {},
   "source": [
    "**3. PHARMACOKINETICS PROFILER(PhaKinPro)**"
   ]
  },
  {
   "cell_type": "code",
   "execution_count": 18,
   "id": "02144289-8680-4b4c-bad9-d3dbc316a127",
   "metadata": {},
   "outputs": [
    {
     "name": "stdout",
     "output_type": "stream",
     "text": [
      "\u001b[34m⬇️  Fetching model eos39dp: phakinpro\u001b[0m\n",
      "\u001b[34mGetting model source\u001b[0m\n",
      "\u001b[34mModel doesn't exist on your system, fetching it now.\u001b[0m\n",
      "\u001b[34mInitiating fetch from DockerHub — this process may take some time...\u001b[0m\n",
      "\u001b[34mWriting model source to file\u001b[0m\n",
      "\u001b[32m👍 Model eos39dp fetched successfully!\u001b[0m\n",
      "\u001b[34mServing model. This process may take some time...\u001b[0m\n",
      "\u001b[32m🚀 Serving model eos39dp: phakinpro\u001b[0m\n",
      "\u001b[0m\n",
      "\u001b[33m   URL: http://0.0.0.0:54506\u001b[0m\n",
      "\u001b[33m   SRV: pulled_docker\u001b[0m\n",
      "\u001b[33m   Session: /Users/ziminqian/eos/sessions/session_71855\u001b[0m\n",
      "\u001b[0m\n",
      "\u001b[34m🔄 Cache fetching mode:\u001b[0m\n",
      "\u001b[31m   - Disabled\u001b[0m\n",
      "\u001b[0m\n",
      "\u001b[34m💾 Local cache:\u001b[0m\n",
      "\u001b[32m   - Enabled\u001b[0m\n",
      "\u001b[0m\n",
      "\u001b[34m📈 Tracking:\u001b[0m\n",
      "\u001b[31m   - Disabled\u001b[0m\n",
      "Starting runner\u001b[0m\n",
      "Running batch 1\u001b[0m\n",
      "Batch 1 response fetched within: 1.2974 seconds\u001b[0m\n",
      "Output is being generated within: 1.33089 seconds\u001b[0m\n",
      "\u001b[32m\u001b[1m✅ The output successfully generated in TB_Pharmacokinetics_Results.csv file!\u001b[0m\n",
      "\u001b[32m⛔ Model eos39dp closed\u001b[0m\n",
      "Deleting model eos39dp\u001b[0m\n",
      "\u001b[32m💥 Model eos39dp deleted successfully!\u001b[0m\n"
     ]
    }
   ],
   "source": [
    "from ersilia.api import ErsiliaAPI\n",
    "\n",
    "# \"eos39dp\" Pharmacokinetics Profiler (PhaKinPro)\n",
    "mdl_pharmacokinetics = ErsiliaAPI(\"eos39dp\")\n",
    "mdl_pharmacokinetics.fetch()\n",
    "mdl_pharmacokinetics.serve()\n",
    "# using the same three outputs from similarity model...\n",
    "input = [\n",
    "    \"CNC(C#CCO)(C(=O)C#N)c1ccco1\",\n",
    "    \"CC(=O)C1(C)C=C(C)C(O)C1=O\",\n",
    "    \"O=C1CCC(CC1)C1CCC[NH2+]1\",\n",
    "]\n",
    "\n",
    "mdl_pharmacokinetics.run(\n",
    "    input, output=\"TB_Pharmacokinetics_Results.csv\", batch_size=100\n",
    ")\n",
    "mdl_pharmacokinetics.close()\n",
    "mdl_pharmacokinetics.delete()"
   ]
  },
  {
   "cell_type": "code",
   "execution_count": 21,
   "id": "103f953d-b0b9-43bf-a6ab-4aa704dbecf3",
   "metadata": {},
   "outputs": [
    {
     "data": {
      "image/png": "[encoded data removed]",
      "text/plain": [
       "<Figure size 1000x600 with 1 Axes>"
      ]
     },
     "metadata": {},
     "output_type": "display_data"
    }
   ],
   "source": [
    "import matplotlib.pyplot as plt\n",
    "import pandas as pd\n",
    "\n",
    "# Load your actual CSV\n",
    "df = pd.read_csv(\"/Users/ziminqian/Desktop/ersilia/TB_Pharmacokinetics_Results.csv\")\n",
    "\n",
    "# Select columns of interest\n",
    "time_cols = [\"bbb_permeability\", \"cns_activity\", \"caco2_permeability\"]\n",
    "\n",
    "# Plot\n",
    "df_subset = df[[\"input\"] + time_cols]\n",
    "\n",
    "df_subset.set_index(\"input\")[time_cols].T.plot(kind=\"bar\", figsize=(10, 6))\n",
    "\n",
    "plt.title(\"Time-Dependent Assay Results per Compound\")\n",
    "plt.xlabel(\"Time Point\")\n",
    "plt.ylabel(\"Measurement Value\")\n",
    "plt.xticks(rotation=0)\n",
    "plt.legend(title=\"Compound\", bbox_to_anchor=(1.05, 1), loc=\"upper left\")\n",
    "plt.tight_layout()\n",
    "plt.show()"
   ]
  },
  {
   "cell_type": "markdown",
   "id": "a812f3b5-6762-4521-8999-612c13bd2e47",
   "metadata": {},
   "source": [
    "### ErsiliaAPI Demo III: Carbon Capture Compounds"
   ]
  },
  {
   "cell_type": "markdown",
   "id": "36602889-f501-4b5e-b9f0-d2ecf7884537",
   "metadata": {},
   "source": [
    "Calcium Hydroxide (Ca(OH)₂)\n",
    "Forms solid calcium carbonate (CaCO₃), locking away CO₂ permanently.\n",
    "Easy to source, low toxicity, works at ambient conditions.\n",
    "Used in mineralization reactors, concrete curing, and CO₂ storage projects.\n"
   ]
  },
  {
   "cell_type": "markdown",
   "id": "c346e15a-3d04-46db-8f3c-ce59b6eb0b5e",
   "metadata": {},
   "source": [
    "1. **GDBMedChem similarity search**\n",
    "Find compounds that are similar: find alternative compounds for carbon capture"
   ]
  },
  {
   "cell_type": "code",
   "execution_count": null,
   "id": "9f05aa86-a946-45ed-af43-f059fc48fe37",
   "metadata": {},
   "outputs": [
    {
     "name": "stdout",
     "output_type": "stream",
     "text": [
      "\u001b[34m⬇️  Fetching model eos7jlv: gdbmedchem-similarity\u001b[0m\n",
      "\u001b[34mGetting model source\u001b[0m\n",
      "\u001b[31mModel already exists on your system. If you want to fetch it again, please delete it first.\u001b[0m\n",
      "\u001b[31m👎 Model eos7jlv failed to fetch! Model already exists on your system. If you want to fetch it again, please delete the existing model first.\u001b[0m\n",
      "\u001b[34mServing model. This process may take some time...\u001b[0m\n",
      "\u001b[32m🚀 Serving model eos7jlv: gdbmedchem-similarity\u001b[0m\n",
      "\u001b[0m\n",
      "\u001b[33m   URL: http://0.0.0.0:54664\u001b[0m\n",
      "\u001b[33m   SRV: pulled_docker\u001b[0m\n",
      "\u001b[33m   Session: /Users/ziminqian/eos/sessions/session_71855\u001b[0m\n",
      "\u001b[0m\n",
      "\u001b[34m🔄 Cache fetching mode:\u001b[0m\n",
      "\u001b[31m   - Disabled\u001b[0m\n",
      "\u001b[0m\n",
      "\u001b[34m💾 Local cache:\u001b[0m\n",
      "\u001b[32m   - Enabled\u001b[0m\n",
      "\u001b[0m\n",
      "\u001b[34m📈 Tracking:\u001b[0m\n",
      "\u001b[31m   - Disabled\u001b[0m\n",
      "Starting runner\u001b[0m\n",
      "Running batch 1\u001b[0m\n",
      "Batch 1 response fetched within: 7.2825 seconds\u001b[0m\n",
      "Output is being generated within: 7.41211 seconds\u001b[0m\n",
      "\u001b[32m\u001b[1m✅ The output successfully generated in Carbon_Capture_Similarity.csv file!\u001b[0m\n"
     ]
    }
   ],
   "source": [
    "# \"eos7jlv\" = GDBMedChem similarity search\n",
    "\n",
    "# standard library\n",
    "# (none in this cell)\n",
    "\n",
    "# third‑party\n",
    "import matplotlib.pyplot as plt\n",
    "import pandas as pd\n",
    "\n",
    "# local\n",
    "from ersilia.api import ErsiliaAPI\n",
    "\n",
    "mdl_simil = ErsiliaAPI(\"eos7jlv\")\n",
    "mdl_simil.fetch()\n",
    "mdl_simil.serve()\n",
    "input = [\"[OH-].[OH-].[Ca+2]\"]\n",
    "mdl_simil.run(input, output=\"Carbon_Capture_Similarity.csv\", batch_size=100)\n",
    "mdl_simil.close()\n",
    "mdl_simil.delete()"
   ]
  },
  {
   "cell_type": "markdown",
   "id": "c4d83d8d-2394-45ce-8fbf-457c6f2a5f17",
   "metadata": {},
   "source": [
    "**Retrosynthetic Accessibility**"
   ]
  },
  {
   "cell_type": "code",
   "execution_count": 26,
   "id": "e9ea4682-e3cb-458b-9e2f-addfee3e4af3",
   "metadata": {},
   "outputs": [
    {
     "name": "stdout",
     "output_type": "stream",
     "text": [
      "\u001b[34m⬇️  Fetching model eos2r5a: retrosynthetic-accessibility\u001b[0m\n",
      "\u001b[34mGetting model source\u001b[0m\n",
      "\u001b[31mModel already exists on your system. If you want to fetch it again, please delete it first.\u001b[0m\n",
      "\u001b[31m👎 Model eos2r5a failed to fetch! Model already exists on your system. If you want to fetch it again, please delete the existing model first.\u001b[0m\n",
      "\u001b[34mServing model. This process may take some time...\u001b[0m\n",
      "\u001b[32m🚀 Serving model eos2r5a: retrosynthetic-accessibility\u001b[0m\n",
      "\u001b[0m\n",
      "\u001b[33m   URL: http://0.0.0.0:55624\u001b[0m\n",
      "\u001b[33m   SRV: pulled_docker\u001b[0m\n",
      "\u001b[33m   Session: /Users/ziminqian/eos/sessions/session_71855\u001b[0m\n",
      "\u001b[0m\n",
      "\u001b[34m🔄 Cache fetching mode:\u001b[0m\n",
      "\u001b[31m   - Disabled\u001b[0m\n",
      "\u001b[0m\n",
      "\u001b[34m💾 Local cache:\u001b[0m\n",
      "\u001b[32m   - Enabled\u001b[0m\n",
      "\u001b[0m\n",
      "\u001b[34m📈 Tracking:\u001b[0m\n",
      "\u001b[31m   - Disabled\u001b[0m\n",
      "Starting runner\u001b[0m\n",
      "Running batch 1\u001b[0m\n",
      "Batch 1 response fetched within: 1.9322 seconds\u001b[0m\n",
      "Output is being generated within: 2.21520 seconds\u001b[0m\n",
      "\u001b[32m\u001b[1m✅ The output successfully generated in Carbon_Capture_Retro.csv file!\u001b[0m\n"
     ]
    }
   ],
   "source": [
    "from ersilia.api import ErsiliaAPI\n",
    "\n",
    "mdl_retro = ErsiliaAPI(\"eos2r5a\")\n",
    "mdl_retro.fetch()\n",
    "mdl_retro.serve()\n",
    "input = [\"[OH-].[OH-].[Ca+2]\"]\n",
    "mdl_retro.run(input, output=\"Carbon_Capture_Retro.csv\", batch_size=100)"
   ]
  },
  {
   "cell_type": "markdown",
   "id": "ba34f1ba-6107-4abe-bd49-dbaaa399e407",
   "metadata": {},
   "source": [
    "Predict micro-pKa of organic molecules"
   ]
  },
  {
   "cell_type": "markdown",
   "id": "2da73922-1316-48a8-8ee8-9cd010c20e85",
   "metadata": {},
   "source": [
    "Using only three of the similar compounds, we can predict the micro-pKA of these molecules to see if they are fit for carbon capture. **No output since these may not be organic molecules"
   ]
  },
  {
   "cell_type": "code",
   "execution_count": 23,
   "id": "fd70edc4-00c7-48f4-a15a-f0bcb3baef9b",
   "metadata": {},
   "outputs": [
    {
     "name": "stdout",
     "output_type": "stream",
     "text": [
      "\u001b[34m⬇️  Fetching model eos3wzy: qupkake\u001b[0m\n",
      "\u001b[34mGetting model source\u001b[0m\n",
      "\u001b[31mModel already exists on your system. If you want to fetch it again, please delete it first.\u001b[0m\n",
      "\u001b[31m👎 Model eos3wzy failed to fetch! Model already exists on your system. If you want to fetch it again, please delete the existing model first.\u001b[0m\n",
      "\u001b[34mServing model. This process may take some time...\u001b[0m\n",
      "\u001b[32m🚀 Serving model eos3wzy: qupkake\u001b[0m\n",
      "\u001b[0m\n",
      "\u001b[33m   URL: http://0.0.0.0:54767\u001b[0m\n",
      "\u001b[33m   SRV: pulled_docker\u001b[0m\n",
      "\u001b[33m   Session: /Users/ziminqian/eos/sessions/session_71855\u001b[0m\n",
      "\u001b[0m\n",
      "\u001b[34m🔄 Cache fetching mode:\u001b[0m\n",
      "\u001b[31m   - Disabled\u001b[0m\n",
      "\u001b[0m\n",
      "\u001b[34m💾 Local cache:\u001b[0m\n",
      "\u001b[32m   - Enabled\u001b[0m\n",
      "\u001b[0m\n",
      "\u001b[34m📈 Tracking:\u001b[0m\n",
      "\u001b[31m   - Disabled\u001b[0m\n",
      "Starting runner\u001b[0m\n",
      "Running batch 1\u001b[0m\n",
      "Batch 1 response fetched within: 1.0185 seconds\u001b[0m\n",
      "\u001b[32m\u001b[1m✅ The output successfully generated in Micro_pka.csv file!\u001b[0m\n"
     ]
    }
   ],
   "source": [
    "from ersilia.api import ErsiliaAPI\n",
    "\n",
    "mdl_pka = ErsiliaAPI(\"eos3wzy\")\n",
    "mdl_pka.fetch()\n",
    "mdl_pka.serve()\n",
    "input = [\"C(C1=CCOC1)c1ccco1\", \"C(C1=CCOC1)c1ccco1\", \"C(C1CC(C1)C1CCC1)c1ccco1\"]\n",
    "mdl_pka.run(input, output=\"Micro_pka.csv\", batch_size=100)\n",
    "mdl_pka.close()\n",
    "mdl_pka.delete()"
   ]
  },
  {
   "cell_type": "markdown",
   "id": "5b6714a9-a31b-489f-aa50-b3a043e08fae",
   "metadata": {},
   "source": [
    "**Toxicity**"
   ]
  },
  {
   "cell_type": "markdown",
   "id": "c9fb439d-1a93-46fb-ab0b-4b30a8821dc3",
   "metadata": {},
   "source": [
    "How toxic are these compounds? if we released them into the air for carbon capture, would it be toxic to people?"
   ]
  },
  {
   "cell_type": "code",
   "execution_count": 25,
   "id": "9e3c5080-d7d7-425c-a930-91a29d4b427e",
   "metadata": {},
   "outputs": [
    {
     "name": "stdout",
     "output_type": "stream",
     "text": [
      "\u001b[34m⬇️  Fetching model eos1pu1: cardiotox-dictrank\u001b[0m\n",
      "\u001b[34mGetting model source\u001b[0m\n",
      "\u001b[34mModel doesn't exist on your system, fetching it now.\u001b[0m\n",
      "\u001b[34mInitiating fetch from DockerHub — this process may take some time...\u001b[0m\n",
      "\u001b[34mWriting model source to file\u001b[0m\n",
      "\u001b[32m👍 Model eos1pu1 fetched successfully!\u001b[0m\n",
      "\u001b[34mServing model. This process may take some time...\u001b[0m\n",
      "\u001b[32m🚀 Serving model eos1pu1: cardiotox-dictrank\u001b[0m\n",
      "\u001b[0m\n",
      "\u001b[33m   URL: http://0.0.0.0:55485\u001b[0m\n",
      "\u001b[33m   SRV: pulled_docker\u001b[0m\n",
      "\u001b[33m   Session: /Users/ziminqian/eos/sessions/session_71855\u001b[0m\n",
      "\u001b[0m\n",
      "\u001b[34m🔄 Cache fetching mode:\u001b[0m\n",
      "\u001b[31m   - Disabled\u001b[0m\n",
      "\u001b[0m\n",
      "\u001b[34m💾 Local cache:\u001b[0m\n",
      "\u001b[32m   - Enabled\u001b[0m\n",
      "\u001b[0m\n",
      "\u001b[34m📈 Tracking:\u001b[0m\n",
      "\u001b[31m   - Disabled\u001b[0m\n",
      "Starting runner\u001b[0m\n",
      "Running batch 1\u001b[0m\n",
      "Batch 1 response fetched within: 0.8814 seconds\u001b[0m\n",
      "Output is being generated within: 0.92488 seconds\u001b[0m\n",
      "\u001b[32m\u001b[1m✅ The output successfully generated in CarbonCapture_Cardiotoxicity_Results.csv file!\u001b[0m\n"
     ]
    }
   ],
   "source": [
    "from ersilia.api import ErsiliaAPI\n",
    "\n",
    "mdl_toxicity = ErsiliaAPI(\"eos1pu1\")\n",
    "mdl_toxicity.fetch()\n",
    "mdl_toxicity.serve()\n",
    "input = [\"C(C1=CCOC1)c1ccco1\", \"C(C1=CCOC1)c1ccco1\", \"C(C1CC(C1)C1CCC1)c1ccco1\"]\n",
    "mdl_toxicity.run(\n",
    "    input, output=\"CarbonCapture_Cardiotoxicity_Results.csv\", batch_size=100\n",
    ")\n",
    "mdl_toxicity.close()\n",
    "mdl_toxicity.delete()"
   ]
  },
  {
   "cell_type": "code",
   "execution_count": 29,
   "id": "05c1c776-4c17-418c-a1ae-41436f2c58e1",
   "metadata": {},
   "outputs": [
    {
     "name": "stdout",
     "output_type": "stream",
     "text": [
      "Requirement already satisfied: matplotlib in /opt/miniconda3/envs/ersilia/lib/python3.12/site-packages (3.10.3)\n",
      "Requirement already satisfied: contourpy>=1.0.1 in /opt/miniconda3/envs/ersilia/lib/python3.12/site-packages (from matplotlib) (1.3.2)\n",
      "Requirement already satisfied: cycler>=0.10 in /opt/miniconda3/envs/ersilia/lib/python3.12/site-packages (from matplotlib) (0.12.1)\n",
      "Requirement already satisfied: fonttools>=4.22.0 in /opt/miniconda3/envs/ersilia/lib/python3.12/site-packages (from matplotlib) (4.58.5)\n",
      "Requirement already satisfied: kiwisolver>=1.3.1 in /opt/miniconda3/envs/ersilia/lib/python3.12/site-packages (from matplotlib) (1.4.8)\n",
      "Requirement already satisfied: numpy>=1.23 in /opt/miniconda3/envs/ersilia/lib/python3.12/site-packages (from matplotlib) (1.26.4)\n",
      "Requirement already satisfied: packaging>=20.0 in /opt/miniconda3/envs/ersilia/lib/python3.12/site-packages (from matplotlib) (25.0)\n",
      "Requirement already satisfied: pillow>=8 in /opt/miniconda3/envs/ersilia/lib/python3.12/site-packages (from matplotlib) (11.3.0)\n",
      "Requirement already satisfied: pyparsing>=2.3.1 in /opt/miniconda3/envs/ersilia/lib/python3.12/site-packages (from matplotlib) (3.2.3)\n",
      "Requirement already satisfied: python-dateutil>=2.7 in /opt/miniconda3/envs/ersilia/lib/python3.12/site-packages (from matplotlib) (2.9.0.post0)\n",
      "Requirement already satisfied: six>=1.5 in /opt/miniconda3/envs/ersilia/lib/python3.12/site-packages (from python-dateutil>=2.7->matplotlib) (1.17.0)\n"
     ]
    },
    {
     "data": {
      "image/png": "[encoded data removed]",
      "text/plain": [
       "<Figure size 1000x600 with 1 Axes>"
      ]
     },
     "metadata": {},
     "output_type": "display_data"
    }
   ],
   "source": [
    "# Cardiotoxicity visual for these compounds\n",
    "import pandas as pd\n",
    "\n",
    "!pip install matplotlib\n",
    "import matplotlib.pyplot as plt\n",
    "\n",
    "# Load the CSV\n",
    "df = pd.read_csv(\"CarbonCapture_Cardiotoxicity_Results.csv\")\n",
    "\n",
    "# Plot\n",
    "plt.figure(figsize=(10, 6))\n",
    "plt.bar(df[\"input\"], df[\"cardiotoxicity_risk\"])\n",
    "\n",
    "plt.xlabel(\"Compound (SMILES)\")\n",
    "plt.ylabel(\"Cardiotoxicity Risk\")\n",
    "plt.title(\"Cardiotoxicity Risk by Compound\")\n",
    "plt.xticks(rotation=90)\n",
    "plt.tight_layout()\n",
    "plt.show()"
   ]
  },
  {
   "cell_type": "markdown",
   "id": "dbd5d2e7-d565-4002-981f-08321421e88e",
   "metadata": {},
   "source": [
    "### ErsiliaAPI Demo IV: Cardiotoxicity of Alcohol"
   ]
  },
  {
   "cell_type": "markdown",
   "id": "9fa5af0c-2b6f-4c1d-9696-2b1818c67b42",
   "metadata": {},
   "source": [
    "Ethanol: CCO"
   ]
  },
  {
   "cell_type": "markdown",
   "id": "ba8d0bf4-18ec-43b2-9b48-6effd13a6e92",
   "metadata": {},
   "source": [
    "THC: CCCCCC1=CC(=C2[C@@H]3C=C(CC[C@H]3C(OC2=C1)(C)C)C)O\n"
   ]
  },
  {
   "cell_type": "markdown",
   "id": "43e92032-d0f6-42d7-b0b6-723a57993a93",
   "metadata": {},
   "source": [
    "Psilocybin: CN(C)CCC1=CNC2=C1C(=CC=C2)OP(=O)(O)O"
   ]
  },
  {
   "cell_type": "code",
   "execution_count": null,
   "id": "069b2825-14b0-4474-b2d2-ee536fba86a3",
   "metadata": {},
   "outputs": [],
   "source": []
  },
  {
   "cell_type": "code",
   "execution_count": 1,
   "id": "2fbdabd0-2e09-4214-b86f-9182693c7911",
   "metadata": {},
   "outputs": [
    {
     "name": "stdout",
     "output_type": "stream",
     "text": [
      "\u001b[34m⬇️  Fetching model eos1pu1: cardiotox-dictrank\u001b[0m\n",
      "\u001b[34mGetting model source\u001b[0m\n",
      "\u001b[31mModel already exists on your system. If you want to fetch it again, please delete it first.\u001b[0m\n",
      "\u001b[31m👎 Model eos1pu1 failed to fetch! Model already exists on your system. If you want to fetch it again, please delete the existing model first.\u001b[0m\n",
      "\u001b[34mServing model. This process may take some time...\u001b[0m\n",
      "\u001b[32m🚀 Serving model eos1pu1: cardiotox-dictrank\u001b[0m\n",
      "\u001b[0m\n",
      "\u001b[33m   URL: http://0.0.0.0:52966\u001b[0m\n",
      "\u001b[33m   SRV: pulled_docker\u001b[0m\n",
      "\u001b[33m   Session: /Users/ziminqian/eos/sessions/session_71855\u001b[0m\n",
      "\u001b[0m\n",
      "\u001b[34m🔄 Cache fetching mode:\u001b[0m\n",
      "\u001b[31m   - Disabled\u001b[0m\n",
      "\u001b[0m\n",
      "\u001b[34m💾 Local cache:\u001b[0m\n",
      "\u001b[32m   - Enabled\u001b[0m\n",
      "\u001b[0m\n",
      "\u001b[34m📈 Tracking:\u001b[0m\n",
      "\u001b[31m   - Disabled\u001b[0m\n",
      "Starting runner\u001b[0m\n",
      "Running batch 1\u001b[0m\n",
      "Batch 1 response fetched within: 0.0078 seconds\u001b[0m\n",
      "Output is being generated within: 0.08560 seconds\u001b[0m\n",
      "\u001b[32m\u001b[1m✅ The output successfully generated in Drug_Cardiotoxicity_Results.csv file!\u001b[0m\n"
     ]
    }
   ],
   "source": [
    "from ersilia.api import ErsiliaAPI\n",
    "\n",
    "mdl_toxicity = ErsiliaAPI(\"eos1pu1\")\n",
    "mdl_toxicity.fetch()\n",
    "mdl_toxicity.serve()\n",
    "input = [\n",
    "    \"CCO\",\n",
    "    \"CCCCCC1=CC(=C2[C@@H]3C=C(CC[C@H]3C(OC2=C1)(C)C)C)O\",\n",
    "    \"CN(C)CCC1=CNC2=C1C(=CC=C2)OP(=O)(O)O\",\n",
    "]\n",
    "mdl_toxicity.run(input, output=\"Drug_Cardiotoxicity_Results.csv\", batch_size=100)"
   ]
  },
  {
   "cell_type": "markdown",
   "id": "9d2c4f4a-aa41-4174-bfeb-46833863032c",
   "metadata": {},
   "source": [
    "Output: /Users/ziminqian/Desktop/ersilia/Drug_Cardiotoxicity_Results.csv"
   ]
  },
  {
   "cell_type": "code",
   "execution_count": 31,
   "id": "b75808f4-bc47-4544-b0c8-4fccef3ad262",
   "metadata": {},
   "outputs": [
    {
     "name": "stdout",
     "output_type": "stream",
     "text": [
      "Requirement already satisfied: matplotlib in /opt/miniconda3/envs/ersilia/lib/python3.12/site-packages (3.10.3)\n",
      "Requirement already satisfied: contourpy>=1.0.1 in /opt/miniconda3/envs/ersilia/lib/python3.12/site-packages (from matplotlib) (1.3.2)\n",
      "Requirement already satisfied: cycler>=0.10 in /opt/miniconda3/envs/ersilia/lib/python3.12/site-packages (from matplotlib) (0.12.1)\n",
      "Requirement already satisfied: fonttools>=4.22.0 in /opt/miniconda3/envs/ersilia/lib/python3.12/site-packages (from matplotlib) (4.58.5)\n",
      "Requirement already satisfied: kiwisolver>=1.3.1 in /opt/miniconda3/envs/ersilia/lib/python3.12/site-packages (from matplotlib) (1.4.8)\n",
      "Requirement already satisfied: numpy>=1.23 in /opt/miniconda3/envs/ersilia/lib/python3.12/site-packages (from matplotlib) (1.26.4)\n",
      "Requirement already satisfied: packaging>=20.0 in /opt/miniconda3/envs/ersilia/lib/python3.12/site-packages (from matplotlib) (25.0)\n",
      "Requirement already satisfied: pillow>=8 in /opt/miniconda3/envs/ersilia/lib/python3.12/site-packages (from matplotlib) (11.3.0)\n",
      "Requirement already satisfied: pyparsing>=2.3.1 in /opt/miniconda3/envs/ersilia/lib/python3.12/site-packages (from matplotlib) (3.2.3)\n",
      "Requirement already satisfied: python-dateutil>=2.7 in /opt/miniconda3/envs/ersilia/lib/python3.12/site-packages (from matplotlib) (2.9.0.post0)\n",
      "Requirement already satisfied: six>=1.5 in /opt/miniconda3/envs/ersilia/lib/python3.12/site-packages (from python-dateutil>=2.7->matplotlib) (1.17.0)\n"
     ]
    },
    {
     "data": {
      "image/png": "[encoded data removed]",
      "text/plain": [
       "<Figure size 1000x1000 with 1 Axes>"
      ]
     },
     "metadata": {},
     "output_type": "display_data"
    }
   ],
   "source": [
    "# Cardiotoxicity visual for these compounds\n",
    "import pandas as pd\n",
    "\n",
    "!pip install matplotlib\n",
    "import matplotlib.pyplot as plt\n",
    "\n",
    "# Load the CSV\n",
    "df = pd.read_csv(\"Drug_Cardiotoxicity_Results.csv\")\n",
    "\n",
    "# Plot\n",
    "plt.figure(figsize=(10, 10))\n",
    "plt.bar(df[\"input\"], df[\"cardiotoxicity_risk\"])\n",
    "\n",
    "plt.xlabel(\"Compound (SMILES)\")\n",
    "plt.ylabel(\"Cardiotoxicity Risk\")\n",
    "plt.title(\"Cardiotoxicity Risk by Compound\")\n",
    "plt.xticks(rotation=90)\n",
    "plt.tight_layout()\n",
    "plt.show()"
   ]
  }
 ],
 "metadata": {
  "kernelspec": {
   "display_name": "Python 3 (ipykernel)",
   "language": "python",
   "name": "python3"
  },
  "language_info": {
   "codemirror_mode": {
    "name": "ipython",
    "version": 3
   },
   "file_extension": ".py",
   "mimetype": "text/x-python",
   "name": "python",
   "nbconvert_exporter": "python",
   "pygments_lexer": "ipython3",
   "version": "3.12.11"
  }
 },
 "nbformat": 4,
 "nbformat_minor": 5
}
